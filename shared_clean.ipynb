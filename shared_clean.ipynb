{
 "cells": [
  {
   "cell_type": "code",
   "execution_count": 1,
   "metadata": {},
   "outputs": [],
   "source": [
    "import pandas as pd\n",
    "import numpy as np\n",
    "\n",
    "import matplotlib.pyplot as plt\n",
    "import seaborn as sns\n",
    "\n",
    "import missingno as msno"
   ]
  },
  {
   "cell_type": "code",
   "execution_count": 2,
   "metadata": {},
   "outputs": [],
   "source": [
    "df = pd.read_csv('original_do_not_change.csv')"
   ]
  },
  {
   "cell_type": "markdown",
   "metadata": {},
   "source": [
    "# Describing the Data"
   ]
  },
  {
   "cell_type": "code",
   "execution_count": null,
   "metadata": {},
   "outputs": [],
   "source": []
  },
  {
   "cell_type": "markdown",
   "metadata": {},
   "source": [
    "# Dropping Columns"
   ]
  },
  {
   "cell_type": "markdown",
   "metadata": {},
   "source": [
    "# Fixing Columns"
   ]
  },
  {
   "cell_type": "markdown",
   "metadata": {},
   "source": [
    "# Generating New Columns"
   ]
  },
  {
   "cell_type": "code",
   "execution_count": 5,
   "metadata": {},
   "outputs": [
    {
     "name": "stdout",
     "output_type": "stream",
     "text": [
      "             room_type  room_type_encoded\n",
      "0      Entire home/apt                  1\n",
      "1      Entire home/apt                  1\n",
      "2      Entire home/apt                  1\n",
      "3      Entire home/apt                  1\n",
      "4      Entire home/apt                  1\n",
      "...                ...                ...\n",
      "12490  Entire home/apt                  1\n",
      "12491  Entire home/apt                  1\n",
      "12492  Entire home/apt                  1\n",
      "12493  Entire home/apt                  1\n",
      "12494  Entire home/apt                  1\n",
      "\n",
      "[12495 rows x 2 columns]\n"
     ]
    }
   ],
   "source": [
    "##Creating new description column that measures the length of description column\n",
    "df['description_length'] = df['description'].str.len() \n",
    "\n",
    "##Creating new host about column that measures the length of the host about column\n",
    "df['host_about_length'] = df['host_about'].str.len() ##Creating new host about column that measures the length of the host about column\n",
    "\n",
    "df['nbr_bathrooms'] = df['bathrooms_text'].replace({'Half-bath': '0.5', 'Shared half-bath': '0.5', 'Private half-bath': '0.5'}).str.extract(r'(\\d+\\.?\\d*)').astype(float)\n",
    "\n",
    "# Create 'bathrooms_shared' column, setting it to True or False based on the presence of 'shared', NaNs are retained\n",
    "df['bathrooms_shared'] = df['bathrooms_text'].str.contains('shared', case=False, na=False)\n",
    "\n",
    "\n",
    "##Waiting with this one, not sure if needed\n",
    "##room_types = {'Entire home/apt': 1, 'Private room': 2, 'Hotel room': 3, 'Shared room': 4}\n",
    "##df['room_type_encoded'] = df['room_type'].map(room_types)\n",
    "\n",
    "\n",
    "\n",
    "\n"
   ]
  },
  {
   "cell_type": "code",
   "execution_count": null,
   "metadata": {},
   "outputs": [],
   "source": []
  }
 ],
 "metadata": {
  "kernelspec": {
   "display_name": "Python 3",
   "language": "python",
   "name": "python3"
  },
  "language_info": {
   "codemirror_mode": {
    "name": "ipython",
    "version": 3
   },
   "file_extension": ".py",
   "mimetype": "text/x-python",
   "name": "python",
   "nbconvert_exporter": "python",
   "pygments_lexer": "ipython3",
   "version": "3.10.5"
  }
 },
 "nbformat": 4,
 "nbformat_minor": 2
}
